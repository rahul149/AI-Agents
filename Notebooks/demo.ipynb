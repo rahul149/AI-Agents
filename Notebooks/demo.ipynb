{
 "cells": [
  {
   "cell_type": "code",
   "execution_count": 24,
   "metadata": {},
   "outputs": [
    {
     "data": {
      "text/plain": [
       "True"
      ]
     },
     "execution_count": 24,
     "metadata": {},
     "output_type": "execute_result"
    }
   ],
   "source": [
    "from dotenv import load_dotenv\n",
    "load_dotenv('.env')\t"
   ]
  },
  {
   "cell_type": "code",
   "execution_count": 25,
   "metadata": {},
   "outputs": [],
   "source": [
    "import os"
   ]
  },
  {
   "cell_type": "code",
   "execution_count": 26,
   "metadata": {},
   "outputs": [],
   "source": [
    "os.environ['LANGSMITH_ENDPOINT'] = \"https://api.smith.langchain.com\""
   ]
  },
  {
   "cell_type": "code",
   "execution_count": 4,
   "metadata": {},
   "outputs": [],
   "source": [
    "base_url = \"http://localhost:11434/\"\n",
    "from langchain_ollama import ChatOllama\n",
    "\n",
    "llm= ChatOllama(\n",
    "    base_url=base_url,\n",
    "    model='llama3.2',\n",
    "    temperature=0.9\n",
    ")"
   ]
  },
  {
   "cell_type": "code",
   "execution_count": 5,
   "metadata": {},
   "outputs": [
    {
     "data": {
      "text/plain": [
       "AIMessage(content=\"I'm just a language model, so I don't have emotions or feelings like humans do. However, I'm functioning properly and ready to assist you with any questions or tasks you may have! How can I help you today?\", additional_kwargs={}, response_metadata={'model': 'llama3.2', 'created_at': '2025-01-27T18:28:17.5039106Z', 'done': True, 'done_reason': 'stop', 'total_duration': 29509237400, 'load_duration': 9697853000, 'prompt_eval_count': 31, 'prompt_eval_duration': 4359000000, 'eval_count': 47, 'eval_duration': 15408000000, 'message': Message(role='assistant', content='', images=None, tool_calls=None)}, id='run-6e494cb5-8651-4605-a3ee-dad0e652d6fb-0', usage_metadata={'input_tokens': 31, 'output_tokens': 47, 'total_tokens': 78})"
      ]
     },
     "execution_count": 5,
     "metadata": {},
     "output_type": "execute_result"
    }
   ],
   "source": [
    "llm.invoke(\"Hello, how are you?\")"
   ]
  },
  {
   "cell_type": "code",
   "execution_count": 6,
   "metadata": {},
   "outputs": [
    {
     "name": "stdout",
     "output_type": "stream",
     "text": [
      "I\n",
      "I'm\n",
      "I'm just\n",
      "I'm just a\n",
      "I'm just a language\n",
      "I'm just a language model\n",
      "I'm just a language model,\n",
      "I'm just a language model, so\n",
      "I'm just a language model, so I\n",
      "I'm just a language model, so I don\n",
      "I'm just a language model, so I don't\n",
      "I'm just a language model, so I don't have\n",
      "I'm just a language model, so I don't have feelings\n",
      "I'm just a language model, so I don't have feelings or\n",
      "I'm just a language model, so I don't have feelings or emotions\n",
      "I'm just a language model, so I don't have feelings or emotions like\n",
      "I'm just a language model, so I don't have feelings or emotions like humans\n",
      "I'm just a language model, so I don't have feelings or emotions like humans do\n",
      "I'm just a language model, so I don't have feelings or emotions like humans do.\n",
      "I'm just a language model, so I don't have feelings or emotions like humans do. However\n",
      "I'm just a language model, so I don't have feelings or emotions like humans do. However,\n",
      "I'm just a language model, so I don't have feelings or emotions like humans do. However, I\n",
      "I'm just a language model, so I don't have feelings or emotions like humans do. However, I'm\n",
      "I'm just a language model, so I don't have feelings or emotions like humans do. However, I'm functioning\n",
      "I'm just a language model, so I don't have feelings or emotions like humans do. However, I'm functioning properly\n",
      "I'm just a language model, so I don't have feelings or emotions like humans do. However, I'm functioning properly and\n",
      "I'm just a language model, so I don't have feelings or emotions like humans do. However, I'm functioning properly and ready\n",
      "I'm just a language model, so I don't have feelings or emotions like humans do. However, I'm functioning properly and ready to\n",
      "I'm just a language model, so I don't have feelings or emotions like humans do. However, I'm functioning properly and ready to help\n",
      "I'm just a language model, so I don't have feelings or emotions like humans do. However, I'm functioning properly and ready to help you\n",
      "I'm just a language model, so I don't have feelings or emotions like humans do. However, I'm functioning properly and ready to help you with\n",
      "I'm just a language model, so I don't have feelings or emotions like humans do. However, I'm functioning properly and ready to help you with any\n",
      "I'm just a language model, so I don't have feelings or emotions like humans do. However, I'm functioning properly and ready to help you with any questions\n",
      "I'm just a language model, so I don't have feelings or emotions like humans do. However, I'm functioning properly and ready to help you with any questions or\n",
      "I'm just a language model, so I don't have feelings or emotions like humans do. However, I'm functioning properly and ready to help you with any questions or tasks\n",
      "I'm just a language model, so I don't have feelings or emotions like humans do. However, I'm functioning properly and ready to help you with any questions or tasks you\n",
      "I'm just a language model, so I don't have feelings or emotions like humans do. However, I'm functioning properly and ready to help you with any questions or tasks you may\n",
      "I'm just a language model, so I don't have feelings or emotions like humans do. However, I'm functioning properly and ready to help you with any questions or tasks you may have\n",
      "I'm just a language model, so I don't have feelings or emotions like humans do. However, I'm functioning properly and ready to help you with any questions or tasks you may have!\n",
      "I'm just a language model, so I don't have feelings or emotions like humans do. However, I'm functioning properly and ready to help you with any questions or tasks you may have! How\n",
      "I'm just a language model, so I don't have feelings or emotions like humans do. However, I'm functioning properly and ready to help you with any questions or tasks you may have! How about\n",
      "I'm just a language model, so I don't have feelings or emotions like humans do. However, I'm functioning properly and ready to help you with any questions or tasks you may have! How about you\n",
      "I'm just a language model, so I don't have feelings or emotions like humans do. However, I'm functioning properly and ready to help you with any questions or tasks you may have! How about you?\n",
      "I'm just a language model, so I don't have feelings or emotions like humans do. However, I'm functioning properly and ready to help you with any questions or tasks you may have! How about you? How\n",
      "I'm just a language model, so I don't have feelings or emotions like humans do. However, I'm functioning properly and ready to help you with any questions or tasks you may have! How about you? How's\n",
      "I'm just a language model, so I don't have feelings or emotions like humans do. However, I'm functioning properly and ready to help you with any questions or tasks you may have! How about you? How's your\n",
      "I'm just a language model, so I don't have feelings or emotions like humans do. However, I'm functioning properly and ready to help you with any questions or tasks you may have! How about you? How's your day\n",
      "I'm just a language model, so I don't have feelings or emotions like humans do. However, I'm functioning properly and ready to help you with any questions or tasks you may have! How about you? How's your day going\n",
      "I'm just a language model, so I don't have feelings or emotions like humans do. However, I'm functioning properly and ready to help you with any questions or tasks you may have! How about you? How's your day going?\n",
      "I'm just a language model, so I don't have feelings or emotions like humans do. However, I'm functioning properly and ready to help you with any questions or tasks you may have! How about you? How's your day going?\n"
     ]
    }
   ],
   "source": [
    "response=''\n",
    "for chunk in llm.stream(\"Hello, how are you?\"):\n",
    "    response+=chunk.content\n",
    "    print(response)"
   ]
  },
  {
   "cell_type": "code",
   "execution_count": 9,
   "metadata": {},
   "outputs": [],
   "source": [
    "from typing import Annotated, TypedDict\n",
    "from langgraph.graph import StateGraph, START,END\n",
    "from langgraph.graph.message import add_messages\n",
    "from langchain_ollama import ChatOllama\n",
    "\n",
    "llm =ChatOllama(model='llama3.2', base_url=base_url)"
   ]
  },
  {
   "cell_type": "code",
   "execution_count": 14,
   "metadata": {},
   "outputs": [
    {
     "data": {
      "image/png": "[encoded data removed]",
      "text/plain": [
       "<IPython.core.display.Image object>"
      ]
     },
     "metadata": {},
     "output_type": "display_data"
    }
   ],
   "source": [
    "class State(TypedDict):\n",
    "    message: Annotated[list, add_messages]\n",
    "\n",
    "def chatBot(state: State) -> State:\n",
    "    message = state['message']\n",
    "    response = llm.invoke(message)\n",
    "    return {'message': [response]}\n",
    "\n",
    "graph_builder = StateGraph(State)\n",
    "graph_builder.add_node('chatBot', chatBot)\n",
    "graph_builder.add_edge(START, \"chatBot\")\n",
    "graph_builder.add_edge(\"chatBot\", END)\n",
    "graph = graph_builder.compile()\n",
    "\n",
    "from IPython.display import Image, display\n",
    "display(Image(graph.get_graph().draw_mermaid_png()))"
   ]
  },
  {
   "cell_type": "code",
   "execution_count": 15,
   "metadata": {},
   "outputs": [
    {
     "data": {
      "text/plain": [
       "{'message': [HumanMessage(content='Hello, tell me a joke', additional_kwargs={}, response_metadata={}, id='218b388f-7976-4a86-9a4e-2c5556ccb675'),\n",
       "  AIMessage(content=\"Here's one:\\n\\nWhat do you call a fake noodle?\\n\\n(wait for it...)\\n\\nAn impasta!\\n\\nHope that made you laugh! Do you want to hear another one?\", additional_kwargs={}, response_metadata={'model': 'llama3.2', 'created_at': '2025-01-27T18:42:59.6676596Z', 'done': True, 'done_reason': 'stop', 'total_duration': 20109069400, 'load_duration': 8196055500, 'prompt_eval_count': 31, 'prompt_eval_duration': 3127000000, 'eval_count': 36, 'eval_duration': 8774000000, 'message': Message(role='assistant', content='', images=None, tool_calls=None)}, id='run-66da0d11-bdaa-4213-9cb6-b821ce27867b-0', usage_metadata={'input_tokens': 31, 'output_tokens': 36, 'total_tokens': 67})]}"
      ]
     },
     "execution_count": 15,
     "metadata": {},
     "output_type": "execute_result"
    }
   ],
   "source": [
    "graph.invoke({'message': ['Hello, tell me a joke']})"
   ]
  },
  {
   "cell_type": "markdown",
   "metadata": {},
   "source": [
    "CHATBOT WITH TOOLS AND MEMORY - Bit Like an Agent"
   ]
  },
  {
   "cell_type": "code",
   "execution_count": 75,
   "metadata": {},
   "outputs": [],
   "source": [
    "from langchain_community.tools.tavily_search import TavilySearchResults\n",
    "# from langchain_community.tools.tavily_search import TavilySearchResult, TavilySearch\n",
    "from langgraph.prebuilt import ToolNode, tools_condition\n",
    "from langchain_core.messages import HumanMessage\n",
    "from langchain_core.tools import tool\n"
   ]
  },
  {
   "cell_type": "code",
   "execution_count": 76,
   "metadata": {},
   "outputs": [],
   "source": [
    "@tool\n",
    "def webSearch(prompt: str) -> str:\n",
    "    \"\"\"\n",
    "    Search the web for the realtime and latest information on the given prompt.\n",
    "    for example, news, articles, blogs, stock market, etc.\n",
    "\n",
    "    Args:\n",
    "        prompt: The prompt to search for.\n",
    "    \"\"\"\n",
    "    search = TavilySearchResults(\n",
    "        max_results=3,\n",
    "        search_depth='advanced',\n",
    "        include_answer=True,\n",
    "        include_raw_content=True,\n",
    "    )\n",
    "    response = search.invoke(prompt)\n",
    "    \n",
    "    return response\n",
    "\n",
    "# print(webSearch('Who is the current president of the United States?'))\n",
    "# search.invoke('Who is the president of the United States?')"
   ]
  },
  {
   "cell_type": "code",
   "execution_count": 77,
   "metadata": {},
   "outputs": [],
   "source": [
    "@tool\n",
    "def llmSearch(prompt: str) -> str:\n",
    "    \"\"\"\n",
    "    Use the LLM model for general queries and basic information.\n",
    "    \"\"\"\n",
    "    # message = HumanMessage(prompt)\n",
    "    response = llm.invoke(prompt)\n",
    "    return response"
   ]
  },
  {
   "cell_type": "code",
   "execution_count": 78,
   "metadata": {},
   "outputs": [
    {
     "data": {
      "text/plain": [
       "StructuredTool(name='webSearch', description='Search the web for the realtime and latest information on the given prompt.\\nfor example, news, articles, blogs, stock market, etc.\\n\\nArgs:\\n    prompt: The prompt to search for.', args_schema=<class 'langchain_core.utils.pydantic.webSearch'>, func=<function webSearch at 0x0000029ED6B036A0>)"
      ]
     },
     "execution_count": 78,
     "metadata": {},
     "output_type": "execute_result"
    }
   ],
   "source": [
    "webSearch"
   ]
  },
  {
   "cell_type": "code",
   "execution_count": 79,
   "metadata": {},
   "outputs": [
    {
     "data": {
      "text/plain": [
       "StructuredTool(name='llmSearch', description='Use the LLM model for general queries and basic information.', args_schema=<class 'langchain_core.utils.pydantic.llmSearch'>, func=<function llmSearch at 0x0000029ED6B03B00>)"
      ]
     },
     "execution_count": 79,
     "metadata": {},
     "output_type": "execute_result"
    }
   ],
   "source": [
    "llmSearch"
   ]
  },
  {
   "cell_type": "code",
   "execution_count": 80,
   "metadata": {},
   "outputs": [
    {
     "data": {
      "text/plain": [
       "[StructuredTool(name='webSearch', description='Search the web for the realtime and latest information on the given prompt.\\nfor example, news, articles, blogs, stock market, etc.\\n\\nArgs:\\n    prompt: The prompt to search for.', args_schema=<class 'langchain_core.utils.pydantic.webSearch'>, func=<function webSearch at 0x0000029ED6B036A0>),\n",
       " StructuredTool(name='llmSearch', description='Use the LLM model for general queries and basic information.', args_schema=<class 'langchain_core.utils.pydantic.llmSearch'>, func=<function llmSearch at 0x0000029ED6B03B00>)]"
      ]
     },
     "execution_count": 80,
     "metadata": {},
     "output_type": "execute_result"
    }
   ],
   "source": [
    "tools = [webSearch, llmSearch]\n",
    "tools"
   ]
  },
  {
   "cell_type": "code",
   "execution_count": 81,
   "metadata": {},
   "outputs": [
    {
     "data": {
      "text/plain": [
       "RunnableBinding(bound=ChatOllama(model='llama3.2', base_url='http://localhost:11434/'), kwargs={'tools': [{'type': 'function', 'function': {'name': 'webSearch', 'description': 'Search the web for the realtime and latest information on the given prompt.\\nfor example, news, articles, blogs, stock market, etc.\\n\\nArgs:\\n    prompt: The prompt to search for.', 'parameters': {'properties': {'prompt': {'type': 'string'}}, 'required': ['prompt'], 'type': 'object'}}}, {'type': 'function', 'function': {'name': 'llmSearch', 'description': 'Use the LLM model for general queries and basic information.', 'parameters': {'properties': {'prompt': {'type': 'string'}}, 'required': ['prompt'], 'type': 'object'}}}]}, config={}, config_factories=[])"
      ]
     },
     "execution_count": 81,
     "metadata": {},
     "output_type": "execute_result"
    }
   ],
   "source": [
    "llm_with_tools = llm.bind_tools(tools)\n",
    "llm_with_tools"
   ]
  },
  {
   "cell_type": "code",
   "execution_count": 82,
   "metadata": {},
   "outputs": [],
   "source": [
    "class State(TypedDict):\n",
    "    # {\"messages\" : []\"your messagea\"]}\n",
    "    messages: Annotated[list, add_messages]\n",
    "\n",
    "def chatBot(state: State) -> State:\n",
    "    # message = state['message']\n",
    "    response = llm_with_tools.invoke(state['messages'])\n",
    "    return {'messages': [response]}"
   ]
  },
  {
   "cell_type": "code",
   "execution_count": 86,
   "metadata": {},
   "outputs": [
    {
     "data": {
      "image/png": "[encoded data removed]",
      "text/plain": [
       "<IPython.core.display.Image object>"
      ]
     },
     "metadata": {},
     "output_type": "display_data"
    }
   ],
   "source": [
    "from langgraph.checkpoint.memory import MemorySaver\n",
    "\n",
    "memory = MemorySaver()\n",
    "\n",
    "graph_builder = StateGraph(State)\n",
    "graph_builder.add_node('chatBot', chatBot)\n",
    "tool_node = ToolNode(tools=tools)\n",
    "\n",
    "graph_builder.add_node('tools', tool_node)\n",
    "graph_builder.add_conditional_edges('chatBot', tools_condition)\n",
    "\n",
    "graph_builder.add_edge(\"tools\", 'chatBot')\n",
    "graph_builder.set_entry_point('chatBot')\n",
    "\n",
    "graph = graph_builder.compile(checkpointer=memory)\n",
    "\n",
    "display(Image(graph.get_graph().draw_mermaid_png()))\n"
   ]
  },
  {
   "cell_type": "code",
   "execution_count": 87,
   "metadata": {},
   "outputs": [
    {
     "data": {
      "image/png": "[encoded data removed]",
      "text/plain": [
       "<langgraph.graph.state.CompiledStateGraph object at 0x0000029EDCAA60D0>"
      ]
     },
     "execution_count": 87,
     "metadata": {},
     "output_type": "execute_result"
    }
   ],
   "source": [
    "graph"
   ]
  },
  {
   "cell_type": "code",
   "execution_count": 88,
   "metadata": {},
   "outputs": [
    {
     "data": {
      "text/plain": [
       "{'messages': [HumanMessage(content='Tell me about earth in 3 points', additional_kwargs={}, response_metadata={}, id='13210c91-d903-481f-bd3b-00f998efab39'),\n",
       "  AIMessage(content='', additional_kwargs={}, response_metadata={'model': 'llama3.2', 'created_at': '2025-01-27T20:36:59.0886892Z', 'done': True, 'done_reason': 'stop', 'total_duration': 42489786200, 'load_duration': 6898494200, 'prompt_eval_count': 246, 'prompt_eval_duration': 28958000000, 'eval_count': 23, 'eval_duration': 6619000000, 'message': Message(role='assistant', content='', images=None, tool_calls=None)}, id='run-53aa68c2-2d61-4a6b-a28e-73290c3c13c8-0', tool_calls=[{'name': 'webSearch', 'args': {'prompt': 'What are three key facts about Earth'}, 'id': 'e399dac2-d570-4c91-bb12-4c96a2519c35', 'type': 'tool_call'}], usage_metadata={'input_tokens': 246, 'output_tokens': 23, 'total_tokens': 269}),\n",
       "  ToolMessage(content='[{\"url\": \"https://www.funkidslive.com/learn/top-10-facts/top-10-facts-about-earth/\", \"content\": \"Top 10 Facts About Earth! · 1. Earth is the third closest planet to The Sun. · 2. It is the only planet we have found that contains life. · 3. Earth is 4.543\"}, {\"url\": \"https://www.natgeokids.com/uk/discover/science/space/facts-about-the-earth/\", \"content\": \"1) Earth is the third planet from the sun in our solar system. · 2) Our amazing planet has been around for quite some time. · 3) Like all the planets, Earth\"}, {\"url\": \"https://science.nasa.gov/earth/facts/\", \"content\": \"Facts About Earth - NASA Science Earth, Our Planet Earth Earth Science Earth They are typically trapped by Earth\\'s gravity for a few months or years before returning to an orbit around the Sun. Some asteroids will be in a long “dance” with Earth as both orbit the Sun. Some moons are bits of rock that were captured by a planet\\'s gravity, but our Moon is likely the result of a collision billions of years ago. When the solar system settled into its current layout about 4.5 billion years ago, Earth formed when gravity pulled swirling gas and dust in to become the third planet from the Sun. Like its fellow terrestrial planets, Earth has a central core, a rocky mantle, and a solid crust. NASA Space Place: All About Earth\"}]', name='webSearch', id='58994684-70b5-47c2-a7c9-8ab9a8ecd9c0', tool_call_id='e399dac2-d570-4c91-bb12-4c96a2519c35'),\n",
       "  AIMessage(content='Here are three key facts about Earth:\\n\\n1. **Earth is the third closest planet to the Sun**.\\n2. **It is the only known planet in our solar system that contains life**.\\n3. **Earth has been around for approximately 4.543 billion years**, with a solid core, rocky mantle, and a crust, and formed when gravity pulled swirling gas and dust into its current layout about 4.5 billion years ago.', additional_kwargs={}, response_metadata={'model': 'llama3.2', 'created_at': '2025-01-27T20:38:23.0866253Z', 'done': True, 'done_reason': 'stop', 'total_duration': 76670414600, 'load_duration': 110256800, 'prompt_eval_count': 421, 'prompt_eval_duration': 52862000000, 'eval_count': 91, 'eval_duration': 22274000000, 'message': Message(role='assistant', content='Here are three key facts about Earth:\\n\\n1. **Earth is the third closest planet to the Sun**.\\n2. **It is the only known planet in our solar system that contains life**.\\n3. **Earth has been around for approximately 4.543 billion years**, with a solid core, rocky mantle, and a crust, and formed when gravity pulled swirling gas and dust into its current layout about 4.5 billion years ago.', images=None, tool_calls=None)}, id='run-aeb6c926-ea39-43f2-b658-ec195c4fef89-0', usage_metadata={'input_tokens': 421, 'output_tokens': 91, 'total_tokens': 512})]}"
      ]
     },
     "execution_count": 88,
     "metadata": {},
     "output_type": "execute_result"
    }
   ],
   "source": [
    "# graph.invoke({'messages': ['Tell me about earth in 3 points']})\n",
    "\n",
    "config = {\"configurable\": {\"thread_id\": 1}}\n",
    "output = graph.invoke({'messages': ['Tell me about earth in 3 points']}, config=config)\n",
    "output"
   ]
  },
  {
   "cell_type": "code",
   "execution_count": 90,
   "metadata": {},
   "outputs": [
    {
     "name": "stdout",
     "output_type": "stream",
     "text": [
      "==================================\u001b[1m Ai Message \u001b[0m==================================\n",
      "\n",
      "Here's one:\n",
      "\n",
      "Why did the employee bring a ladder to the meeting?\n",
      "\n",
      "Because she wanted to take her career to the next level! (ba-dum-tss)\n",
      "Goodbye!\n"
     ]
    }
   ],
   "source": [
    "config = {\"configurable\": {\"thread_id\": 1}}\n",
    "while True:\n",
    "    user_input = input(\"You: \")\n",
    "    if user_input in ['exit', \"quit\", \"q\"]:\n",
    "        print(\"Goodbye!\")\n",
    "        break\n",
    "    output = graph.invoke({'messages': [user_input]}, config=config)\n",
    "    output['messages'][-1].pretty_print()"
   ]
  },
  {
   "cell_type": "code",
   "execution_count": null,
   "metadata": {},
   "outputs": [],
   "source": []
  }
 ],
 "metadata": {
  "kernelspec": {
   "display_name": "venv",
   "language": "python",
   "name": "python3"
  },
  "language_info": {
   "codemirror_mode": {
    "name": "ipython",
    "version": 3
   },
   "file_extension": ".py",
   "mimetype": "text/x-python",
   "name": "python",
   "nbconvert_exporter": "python",
   "pygments_lexer": "ipython3",
   "version": "3.13.1"
  }
 },
 "nbformat": 4,
 "nbformat_minor": 2
}

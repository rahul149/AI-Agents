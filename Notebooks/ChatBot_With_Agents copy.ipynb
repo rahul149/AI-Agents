{
 "cells": [
  {
   "cell_type": "markdown",
   "metadata": {},
   "source": [
    "CHATBOT WITH TOOLS AND MEMORY - Bit Like an Agent"
   ]
  },
  {
   "cell_type": "code",
   "execution_count": 1,
   "metadata": {},
   "outputs": [],
   "source": [
    "from dotenv import load_dotenv\n",
    "load_dotenv('.env')\t\n",
    "import os"
   ]
  },
  {
   "cell_type": "code",
   "execution_count": 2,
   "metadata": {},
   "outputs": [],
   "source": [
    "from langchain_community.tools.tavily_search import TavilySearchResults\n",
    "from langgraph.prebuilt import ToolNode, tools_condition\n",
    "from langchain_core.messages import HumanMessage\n",
    "from langchain_core.tools import tool\n",
    "from langchain_ollama import ChatOllama\n",
    "from typing import Annotated, TypedDict\n",
    "from langgraph.graph import StateGraph, START,END\n",
    "from langgraph.graph.message import add_messages\n",
    "from langgraph.checkpoint.memory import MemorySaver\n",
    "from IPython.display import Image, display"
   ]
  },
  {
   "cell_type": "code",
   "execution_count": 3,
   "metadata": {},
   "outputs": [],
   "source": [
    "base_url = \"http://localhost:11434/\"\n",
    "\n",
    "\n",
    "llm= ChatOllama(\n",
    "    base_url=base_url,\n",
    "    model='llama3.2',\n",
    "    temperature=0.9\n",
    ")"
   ]
  },
  {
   "cell_type": "code",
   "execution_count": 4,
   "metadata": {},
   "outputs": [],
   "source": [
    "@tool\n",
    "def webSearch(prompt: str) -> str:\n",
    "    \"\"\"\n",
    "    Search the web for the realtime and latest information on the given prompt.\n",
    "    for example, news, articles, blogs, stock market, etc.\n",
    "\n",
    "    Args:\n",
    "        prompt: The prompt to search for.\n",
    "    \"\"\"\n",
    "    search = TavilySearchResults(\n",
    "        max_results=3,\n",
    "        search_depth='advanced',\n",
    "        include_answer=True,\n",
    "        include_raw_content=True,\n",
    "    )\n",
    "    response = search.invoke(prompt)\n",
    "    \n",
    "    return response\n",
    "\n",
    "# print(webSearch('Who is the current president of the United States?'))\n",
    "# search.invoke('Who is the president of the United States?')"
   ]
  },
  {
   "cell_type": "code",
   "execution_count": 5,
   "metadata": {},
   "outputs": [],
   "source": [
    "@tool\n",
    "def llmSearch(prompt: str) -> str:\n",
    "    \"\"\"\n",
    "    Use the LLM model for general queries and basic information.\n",
    "    \"\"\"\n",
    "    # message = HumanMessage(prompt)\n",
    "    response = llm.invoke(prompt)\n",
    "    return response"
   ]
  },
  {
   "cell_type": "code",
   "execution_count": 6,
   "metadata": {},
   "outputs": [
    {
     "data": {
      "text/plain": [
       "StructuredTool(name='webSearch', description='Search the web for the realtime and latest information on the given prompt.\\nfor example, news, articles, blogs, stock market, etc.\\n\\nArgs:\\n    prompt: The prompt to search for.', args_schema=<class 'langchain_core.utils.pydantic.webSearch'>, func=<function webSearch at 0x0000012A4FA4BEC0>)"
      ]
     },
     "execution_count": 6,
     "metadata": {},
     "output_type": "execute_result"
    }
   ],
   "source": [
    "webSearch"
   ]
  },
  {
   "cell_type": "code",
   "execution_count": 7,
   "metadata": {},
   "outputs": [
    {
     "data": {
      "text/plain": [
       "StructuredTool(name='llmSearch', description='Use the LLM model for general queries and basic information.', args_schema=<class 'langchain_core.utils.pydantic.llmSearch'>, func=<function llmSearch at 0x0000012A4FBDA5C0>)"
      ]
     },
     "execution_count": 7,
     "metadata": {},
     "output_type": "execute_result"
    }
   ],
   "source": [
    "llmSearch"
   ]
  },
  {
   "cell_type": "code",
   "execution_count": 8,
   "metadata": {},
   "outputs": [
    {
     "data": {
      "text/plain": [
       "[StructuredTool(name='webSearch', description='Search the web for the realtime and latest information on the given prompt.\\nfor example, news, articles, blogs, stock market, etc.\\n\\nArgs:\\n    prompt: The prompt to search for.', args_schema=<class 'langchain_core.utils.pydantic.webSearch'>, func=<function webSearch at 0x0000012A4FA4BEC0>),\n",
       " StructuredTool(name='llmSearch', description='Use the LLM model for general queries and basic information.', args_schema=<class 'langchain_core.utils.pydantic.llmSearch'>, func=<function llmSearch at 0x0000012A4FBDA5C0>)]"
      ]
     },
     "execution_count": 8,
     "metadata": {},
     "output_type": "execute_result"
    }
   ],
   "source": [
    "tools = [webSearch, llmSearch]\n",
    "tools"
   ]
  },
  {
   "cell_type": "code",
   "execution_count": 9,
   "metadata": {},
   "outputs": [
    {
     "data": {
      "text/plain": [
       "RunnableBinding(bound=ChatOllama(model='llama3.2', temperature=0.9, base_url='http://localhost:11434/'), kwargs={'tools': [{'type': 'function', 'function': {'name': 'webSearch', 'description': 'Search the web for the realtime and latest information on the given prompt.\\nfor example, news, articles, blogs, stock market, etc.\\n\\nArgs:\\n    prompt: The prompt to search for.', 'parameters': {'properties': {'prompt': {'type': 'string'}}, 'required': ['prompt'], 'type': 'object'}}}, {'type': 'function', 'function': {'name': 'llmSearch', 'description': 'Use the LLM model for general queries and basic information.', 'parameters': {'properties': {'prompt': {'type': 'string'}}, 'required': ['prompt'], 'type': 'object'}}}]}, config={}, config_factories=[])"
      ]
     },
     "execution_count": 9,
     "metadata": {},
     "output_type": "execute_result"
    }
   ],
   "source": [
    "llm_with_tools = llm.bind_tools(tools)\n",
    "llm_with_tools"
   ]
  },
  {
   "cell_type": "code",
   "execution_count": 10,
   "metadata": {},
   "outputs": [],
   "source": [
    "class State(TypedDict):\n",
    "    # {\"messages\" : []\"your messagea\"]}\n",
    "    messages: Annotated[list, add_messages]\n",
    "\n",
    "def chatBot(state: State) -> State:\n",
    "    # message = state['message']\n",
    "    response = llm_with_tools.invoke(state['messages'])\n",
    "    return {'messages': [response]}"
   ]
  },
  {
   "cell_type": "code",
   "execution_count": null,
   "metadata": {},
   "outputs": [
    {
     "data": {
      "image/png": "[encoded data removed]",
      "text/plain": [
       "<IPython.core.display.Image object>"
      ]
     },
     "metadata": {},
     "output_type": "display_data"
    }
   ],
   "source": [
    "from langgraph.checkpoint.memory import AsyncSqliteSaver\n",
    "\n",
    "def get_runnable():\n",
    "    # memory = MemorySaver()\n",
    "    memory = AsyncSqliteSaver.from_conn_string(\":memory:\")\n",
    "    graph_builder = StateGraph(State)\n",
    "    graph_builder.add_node('chatBot', chatBot)\n",
    "    tool_node = ToolNode(tools=tools)\n",
    "\n",
    "    graph_builder.add_node('tools', tool_node)\n",
    "    graph_builder.add_conditional_edges('chatBot', tools_condition)\n",
    "\n",
    "    graph_builder.add_edge(\"tools\", 'chatBot')\n",
    "    graph_builder.set_entry_point('chatBot')\n",
    "\n",
    "    graph = graph_builder.compile(checkpointer=memory)\n",
    "    return graph\n"
   ]
  },
  {
   "cell_type": "code",
   "execution_count": null,
   "metadata": {},
   "outputs": [],
   "source": [
    "display(Image(graph.get_graph().draw_mermaid_png()))"
   ]
  },
  {
   "cell_type": "code",
   "execution_count": 12,
   "metadata": {},
   "outputs": [
    {
     "data": {
      "text/plain": [
       "{'messages': [HumanMessage(content='Tell me about earth in 3 points', additional_kwargs={}, response_metadata={}, id='d78ec1f7-76bd-42f5-a8b8-69b785f65793'),\n",
       "  AIMessage(content='', additional_kwargs={}, response_metadata={'model': 'llama3.2', 'created_at': '2025-02-09T16:16:47.9618641Z', 'done': True, 'done_reason': 'stop', 'total_duration': 36015605700, 'load_duration': 15864391200, 'prompt_eval_count': 246, 'prompt_eval_duration': 6316000000, 'eval_count': 40, 'eval_duration': 13751000000, 'message': Message(role='assistant', content='', images=None, tool_calls=None)}, id='run-69dcce4a-b13b-4430-8967-9756030db29a-0', tool_calls=[{'name': 'webSearch', 'args': {'prompt': 'earth information'}, 'id': 'e90a2cb8-cd7b-423e-8088-30945cac568e', 'type': 'tool_call'}, {'name': 'llmSearch', 'args': {'prompt': 'Three key facts about Earth'}, 'id': 'f5054f0e-e3ae-4fe7-afeb-8f1a31a66403', 'type': 'tool_call'}], usage_metadata={'input_tokens': 246, 'output_tokens': 40, 'total_tokens': 286}),\n",
       "  ToolMessage(content='[{\"url\": \"https://earth.gov/\", \"content\": \"One government working for one planet. The Earth Information Center consolidates data on Earth science from across the US federal government.\"}, {\"url\": \"https://www.natgeokids.com/uk/discover/science/space/facts-about-the-earth/\", \"content\": \"1) Earth is the third planet from the sun in our solar system. Its name comes from the the old English and Germanic words meaning \\'the ground\\'.\"}, {\"url\": \"https://spaceplace.nasa.gov/all-about-earth/\", \"content\": \"All About Earth | NASA Space Place – NASA Science for Kids all-about-earth Earth Sun Solar System Universe Science and Tech Educators All About Earth Our home planet Earth is a rocky, terrestrial planet. Earth is special because it is an ocean planet. Water covers 70% of Earth\\'s surface. Explore Earth! Earth is a terrestrial planet. Earth\\'s atmosphere is the right thickness to keep the planet warm so living things like us can be there. Time on Earth One year on Earth lasts 365.25 days. Earth’s Neighbors Earth has just one Moon. Earth is the third planet from the Sun in our solar system. What does Earth look like? Earth. Gallery of NASA Earth Images Earth\"}]', name='webSearch', id='a590c7c8-45bf-405b-98fa-b3fc0a53b53c', tool_call_id='e90a2cb8-cd7b-423e-8088-30945cac568e'),\n",
       "  ToolMessage(content='content=\"Here are three key facts about Earth:\\\\n\\\\n1. **Size and Shape**: Earth is the fifth-largest planet in our solar system, with a diameter of approximately 12,742 kilometers (7,918 miles). It is an oblate spheroid, meaning it\\'s slightly flattened at the poles and bulging at the equator due to its rotation.\\\\n\\\\n2. **Temperature Range**: Earth\\'s surface temperature ranges from -89°C (-129°F) in Antarctica\\'s ice caps to over 57°C (135°F) in the hottest deserts. This wide range of temperatures is essential for supporting a diverse range of ecosystems and life forms.\\\\n\\\\n3. **Water Coverage**: About 71% of Earth\\'s surface is covered by water, which includes oceans, seas, lakes, rivers, and wetlands. Water plays a crucial role in regulating the planet\\'s climate, weather patterns, and supporting life as we know it.\" additional_kwargs={} response_metadata={\\'model\\': \\'llama3.2\\', \\'created_at\\': \\'2025-02-09T16:17:57.979343Z\\', \\'done\\': True, \\'done_reason\\': \\'stop\\', \\'total_duration\\': 69981957000, \\'load_duration\\': 66944900, \\'prompt_eval_count\\': 30, \\'prompt_eval_duration\\': 1357000000, \\'eval_count\\': 185, \\'eval_duration\\': 68556000000, \\'message\\': Message(role=\\'assistant\\', content=\\'\\', images=None, tool_calls=None)} id=\\'run-c94b59db-e5f8-4ca8-a3d3-3526fba18513-0\\' usage_metadata={\\'input_tokens\\': 30, \\'output_tokens\\': 185, \\'total_tokens\\': 215}', name='llmSearch', id='c74edf52-9c87-4e20-acf7-2161da27b1ae', tool_call_id='f5054f0e-e3ae-4fe7-afeb-8f1a31a66403'),\n",
       "  AIMessage(content=\"Here are three key facts about Earth:\\n\\n1. **Size and Shape**: Earth is the fifth-largest planet in our solar system, with a diameter of approximately 12,742 kilometers (7,918 miles). It is an oblate spheroid, meaning it's slightly flattened at the poles and bulging at the equator due to its rotation.\\n\\n2. **Temperature Range**: Earth's surface temperature ranges from -89°C (-129°F) in Antarctica's ice caps to over 57°C (135°F) in the hottest deserts. This wide range of temperatures is essential for supporting a diverse range of ecosystems and life forms.\\n\\n3. **Water Coverage**: About 71% of Earth's surface is covered by water, which includes oceans, seas, lakes, rivers, and wetlands. Water plays a crucial role in regulating the planet's climate, weather patterns, and supporting life as we know it.\", additional_kwargs={}, response_metadata={'model': 'llama3.2', 'created_at': '2025-02-09T16:19:22.2503317Z', 'done': True, 'done_reason': 'stop', 'total_duration': 84233053700, 'load_duration': 63703000, 'prompt_eval_count': 742, 'prompt_eval_duration': 11609000000, 'eval_count': 185, 'eval_duration': 71477000000, 'message': Message(role='assistant', content=\"Here are three key facts about Earth:\\n\\n1. **Size and Shape**: Earth is the fifth-largest planet in our solar system, with a diameter of approximately 12,742 kilometers (7,918 miles). It is an oblate spheroid, meaning it's slightly flattened at the poles and bulging at the equator due to its rotation.\\n\\n2. **Temperature Range**: Earth's surface temperature ranges from -89°C (-129°F) in Antarctica's ice caps to over 57°C (135°F) in the hottest deserts. This wide range of temperatures is essential for supporting a diverse range of ecosystems and life forms.\\n\\n3. **Water Coverage**: About 71% of Earth's surface is covered by water, which includes oceans, seas, lakes, rivers, and wetlands. Water plays a crucial role in regulating the planet's climate, weather patterns, and supporting life as we know it.\", images=None, tool_calls=None)}, id='run-05b9ef15-f034-4d1b-ad6a-240e4e19b801-0', usage_metadata={'input_tokens': 742, 'output_tokens': 185, 'total_tokens': 927})]}"
      ]
     },
     "execution_count": 12,
     "metadata": {},
     "output_type": "execute_result"
    }
   ],
   "source": [
    "# graph.invoke({'messages': ['Tell me about earth in 3 points']})\n",
    "\n",
    "config = {\"configurable\": {\"thread_id\": 1}}\n",
    "output = graph.invoke({'messages': ['Tell me about earth in 3 points']}, config=config)\n",
    "output"
   ]
  },
  {
   "cell_type": "code",
   "execution_count": null,
   "metadata": {},
   "outputs": [],
   "source": [
    "config = {\"configurable\": {\"thread_id\": 1}}\n",
    "while True:\n",
    "    user_input = input(\"You: \")\n",
    "    if user_input in ['exit', \"quit\", \"q\"]:\n",
    "        print(\"Goodbye!\")\n",
    "        break\n",
    "    output = graph.invoke({'messages': [user_input]}, config=config)\n",
    "    output['messages'][-1].pretty_print()"
   ]
  },
  {
   "cell_type": "code",
   "execution_count": null,
   "metadata": {},
   "outputs": [],
   "source": []
  }
 ],
 "metadata": {
  "kernelspec": {
   "display_name": "venv",
   "language": "python",
   "name": "python3"
  },
  "language_info": {
   "codemirror_mode": {
    "name": "ipython",
    "version": 3
   },
   "file_extension": ".py",
   "mimetype": "text/x-python",
   "name": "python",
   "nbconvert_exporter": "python",
   "pygments_lexer": "ipython3",
   "version": "3.13.1"
  }
 },
 "nbformat": 4,
 "nbformat_minor": 2
}

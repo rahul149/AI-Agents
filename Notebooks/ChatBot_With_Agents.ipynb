{
 "cells": [
  {
   "cell_type": "markdown",
   "metadata": {},
   "source": [
    "CHATBOT WITH TOOLS AND MEMORY - Bit Like an Agent"
   ]
  },
  {
   "cell_type": "code",
   "execution_count": 1,
   "metadata": {},
   "outputs": [],
   "source": [
    "from dotenv import load_dotenv\n",
    "load_dotenv('.env')\t\n",
    "import os"
   ]
  },
  {
   "cell_type": "code",
   "execution_count": 2,
   "metadata": {},
   "outputs": [],
   "source": [
    "from langchain_community.tools.tavily_search import TavilySearchResults\n",
    "from langgraph.prebuilt import ToolNode, tools_condition\n",
    "from langchain_core.messages import HumanMessage\n",
    "from langchain_core.tools import tool\n",
    "from langchain_ollama import ChatOllama\n",
    "from typing import Annotated, TypedDict\n",
    "from langgraph.graph import StateGraph, START,END\n",
    "from langgraph.graph.message import add_messages\n",
    "from langgraph.checkpoint.memory import MemorySaver\n",
    "from IPython.display import Image, display"
   ]
  },
  {
   "cell_type": "code",
   "execution_count": 3,
   "metadata": {},
   "outputs": [],
   "source": [
    "# from langchain.llms import OpenAI\n",
    "\n",
    "# llm = {\n",
    "#     \"config_list\": [{\"model\": \"gemini-1.5-flash\", \"api_key\": os.environ[\"GEMINI_API_KEY\"]}],\n",
    "# }"
   ]
  },
  {
   "cell_type": "code",
   "execution_count": 4,
   "metadata": {},
   "outputs": [],
   "source": [
    "# pip install -U langchain-google-genai"
   ]
  },
  {
   "cell_type": "code",
   "execution_count": 5,
   "metadata": {},
   "outputs": [],
   "source": [
    "base_url = \"http://localhost:11434/\"\n",
    "\n",
    "\n",
    "llm= ChatOllama(\n",
    "    base_url=base_url,\n",
    "    model='llama3.2',\n",
    "    temperature=0.9\n",
    ")\n"
   ]
  },
  {
   "cell_type": "code",
   "execution_count": 6,
   "metadata": {},
   "outputs": [],
   "source": [
    "# from langchain_google_genai import ChatGoogleGenerativeAI\n",
    "\n",
    "# llm = ChatGoogleGenerativeAI(model=\"gemini-1.5-flash\", api_key=os.environ[\"GEMINI_API_KEY\"])\n",
    "# llm.invoke(\"Sing a ballad of LangChain.\")"
   ]
  },
  {
   "cell_type": "code",
   "execution_count": 7,
   "metadata": {},
   "outputs": [],
   "source": [
    "@tool\n",
    "def webSearch(prompt: str) -> str:\n",
    "    \"\"\"\n",
    "    Search the web for the realtime and latest information on the given prompt.\n",
    "    for example, news, articles, blogs, stock market, etc.\n",
    "\n",
    "    Args:\n",
    "        prompt: The prompt to search for.\n",
    "    \"\"\"\n",
    "    search = TavilySearchResults(\n",
    "        max_results=3,\n",
    "        search_depth='advanced',\n",
    "        include_answer=True,\n",
    "        include_raw_content=True,\n",
    "    )\n",
    "    response = search.invoke(prompt)\n",
    "    \n",
    "    return response\n",
    "\n",
    "# print(webSearch('Who is the current president of the United States?'))\n",
    "# search.invoke('Who is the president of the United States?')"
   ]
  },
  {
   "cell_type": "code",
   "execution_count": 8,
   "metadata": {},
   "outputs": [],
   "source": [
    "@tool\n",
    "def llmSearch(prompt: str) -> str:\n",
    "    \"\"\"\n",
    "    Use the LLM model for general queries and basic information.\n",
    "    \"\"\"\n",
    "    # message = HumanMessage(prompt)\n",
    "    response = llm.invoke(prompt)\n",
    "    return response"
   ]
  },
  {
   "cell_type": "code",
   "execution_count": 9,
   "metadata": {},
   "outputs": [
    {
     "data": {
      "text/plain": [
       "StructuredTool(name='webSearch', description='Search the web for the realtime and latest information on the given prompt.\\nfor example, news, articles, blogs, stock market, etc.\\n\\nArgs:\\n    prompt: The prompt to search for.', args_schema=<class 'langchain_core.utils.pydantic.webSearch'>, func=<function webSearch at 0x0000029A0F4C7BA0>)"
      ]
     },
     "execution_count": 9,
     "metadata": {},
     "output_type": "execute_result"
    }
   ],
   "source": [
    "webSearch"
   ]
  },
  {
   "cell_type": "code",
   "execution_count": 10,
   "metadata": {},
   "outputs": [
    {
     "data": {
      "text/plain": [
       "StructuredTool(name='llmSearch', description='Use the LLM model for general queries and basic information.', args_schema=<class 'langchain_core.utils.pydantic.llmSearch'>, func=<function llmSearch at 0x0000029A11D87EC0>)"
      ]
     },
     "execution_count": 10,
     "metadata": {},
     "output_type": "execute_result"
    }
   ],
   "source": [
    "llmSearch"
   ]
  },
  {
   "cell_type": "code",
   "execution_count": 11,
   "metadata": {},
   "outputs": [
    {
     "data": {
      "text/plain": [
       "[StructuredTool(name='webSearch', description='Search the web for the realtime and latest information on the given prompt.\\nfor example, news, articles, blogs, stock market, etc.\\n\\nArgs:\\n    prompt: The prompt to search for.', args_schema=<class 'langchain_core.utils.pydantic.webSearch'>, func=<function webSearch at 0x0000029A0F4C7BA0>),\n",
       " StructuredTool(name='llmSearch', description='Use the LLM model for general queries and basic information.', args_schema=<class 'langchain_core.utils.pydantic.llmSearch'>, func=<function llmSearch at 0x0000029A11D87EC0>)]"
      ]
     },
     "execution_count": 11,
     "metadata": {},
     "output_type": "execute_result"
    }
   ],
   "source": [
    "tools = [webSearch, llmSearch]\n",
    "tools"
   ]
  },
  {
   "cell_type": "code",
   "execution_count": 12,
   "metadata": {},
   "outputs": [
    {
     "data": {
      "text/plain": [
       "RunnableBinding(bound=ChatOllama(model='llama3.2', temperature=0.9, base_url='http://localhost:11434/'), kwargs={'tools': [{'type': 'function', 'function': {'name': 'webSearch', 'description': 'Search the web for the realtime and latest information on the given prompt.\\nfor example, news, articles, blogs, stock market, etc.\\n\\nArgs:\\n    prompt: The prompt to search for.', 'parameters': {'properties': {'prompt': {'type': 'string'}}, 'required': ['prompt'], 'type': 'object'}}}, {'type': 'function', 'function': {'name': 'llmSearch', 'description': 'Use the LLM model for general queries and basic information.', 'parameters': {'properties': {'prompt': {'type': 'string'}}, 'required': ['prompt'], 'type': 'object'}}}]}, config={}, config_factories=[])"
      ]
     },
     "execution_count": 12,
     "metadata": {},
     "output_type": "execute_result"
    }
   ],
   "source": [
    "llm_with_tools = llm.bind_tools(tools)\n",
    "llm_with_tools"
   ]
  },
  {
   "cell_type": "code",
   "execution_count": 13,
   "metadata": {},
   "outputs": [],
   "source": [
    "class State(TypedDict):\n",
    "    # {\"messages\" : []\"your messagea\"]}\n",
    "    messages: Annotated[list, add_messages]\n",
    "\n",
    "def chatBot(state: State) -> State:\n",
    "    # message = state['message']\n",
    "    response = llm_with_tools.invoke(state['messages'])\n",
    "    return {'messages': [response]}"
   ]
  },
  {
   "cell_type": "code",
   "execution_count": 14,
   "metadata": {},
   "outputs": [],
   "source": [
    "# graph = StateGraph(State)\n",
    "def get_runnable():\n",
    "    memory = MemorySaver()\n",
    "    # memory = AsyncSqliteSaver.from_conn_string(\":memory:\")\n",
    "    graph_builder = StateGraph(State)\n",
    "    graph_builder.add_node('chatBot', chatBot)\n",
    "    tool_node = ToolNode(tools=tools)\n",
    "\n",
    "    graph_builder.add_node('tools', tool_node)\n",
    "    graph_builder.add_conditional_edges('chatBot', tools_condition)\n",
    "\n",
    "    graph_builder.add_edge(\"tools\", 'chatBot')\n",
    "    graph_builder.set_entry_point('chatBot')\n",
    "\n",
    "    graph = graph_builder.compile(checkpointer=memory)\n",
    "    return graph\n"
   ]
  },
  {
   "cell_type": "code",
   "execution_count": 15,
   "metadata": {},
   "outputs": [
    {
     "data": {
      "image/png": "[encoded data removed]",
      "text/plain": [
       "<IPython.core.display.Image object>"
      ]
     },
     "metadata": {},
     "output_type": "display_data"
    }
   ],
   "source": [
    "graph = get_runnable()\n",
    "display(Image(graph.get_graph().draw_mermaid_png()))"
   ]
  },
  {
   "cell_type": "code",
   "execution_count": 16,
   "metadata": {},
   "outputs": [
    {
     "name": "stdout",
     "output_type": "stream",
     "text": [
      "==================================\u001b[1m Ai Message \u001b[0m==================================\n",
      "\n",
      "The latest winner of the Delhi CM elections in February 2025 is from the Bharatiya Janata Party (BJP). According to the election results, the BJP has won 47 out of the 70 assembly seats, while the Aam Aadmi Party (AAP) has won 23 seats. The BJP will form a government in Delhi after more than 26 years.\n",
      "Goodbye!\n"
     ]
    }
   ],
   "source": [
    "# graph.invoke({'messages': ['Let me know which political party won the latest Delhi CM elections in the year Feb-2025']})\n",
    "config = {\"configurable\": {\"thread_id\": 1}}\n",
    "while True:\n",
    "    user_input = input(\"You: \")\n",
    "    if user_input in ['exit', \"quit\", \"q\"]:\n",
    "        print(\"Goodbye!\")\n",
    "        break\n",
    "    output = graph.invoke({'messages': [user_input]}, config=config)\n",
    "    output['messages'][-1].pretty_print()\n"
   ]
  },
  {
   "cell_type": "code",
   "execution_count": 88,
   "metadata": {},
   "outputs": [],
   "source": [
    "# async def prompt_ai(messages):\n",
    "#     config = {\n",
    "#         \"configurable\": {\n",
    "#             \"thread_id\": 1\n",
    "#         }\n",
    "#     }\n",
    "\n",
    "#     async for event in graph.astream_events(\n",
    "#             {\"messages\": messages}, config, version=\"v2\"\n",
    "#         ):\n",
    "#             if event[\"event\"] == \"on_chat_model_stream\":\n",
    "#                 yield event[\"data\"][\"chunk\"].content"
   ]
  },
  {
   "cell_type": "code",
   "execution_count": null,
   "metadata": {},
   "outputs": [
    {
     "name": "stdout",
     "output_type": "stream",
     "text": [
      "The\n",
      "The biting wind whipped at James Bond’s tailored suit as he stood atop the Matter\n",
      "The biting wind whipped at James Bond’s tailored suit as he stood atop the Matterhorn, the icy peaks of the Swiss Alps a stark backdrop to the clandestine meeting\n",
      "The biting wind whipped at James Bond’s tailored suit as he stood atop the Matterhorn, the icy peaks of the Swiss Alps a stark backdrop to the clandestine meeting unfolding below.  His target:  Ernst Stavro Blofeld, the enigmatic leader of SPECTRE, was holding a summit with a group of shadowy figures –\n",
      "The biting wind whipped at James Bond’s tailored suit as he stood atop the Matterhorn, the icy peaks of the Swiss Alps a stark backdrop to the clandestine meeting unfolding below.  His target:  Ernst Stavro Blofeld, the enigmatic leader of SPECTRE, was holding a summit with a group of shadowy figures – arms dealers, tech moguls, and corrupt politicians – all vying for control of a revolutionary new technology: Project Chimera.\n",
      "\n",
      "Intelligence suggested Project Chimera was\n",
      "The biting wind whipped at James Bond’s tailored suit as he stood atop the Matterhorn, the icy peaks of the Swiss Alps a stark backdrop to the clandestine meeting unfolding below.  His target:  Ernst Stavro Blofeld, the enigmatic leader of SPECTRE, was holding a summit with a group of shadowy figures – arms dealers, tech moguls, and corrupt politicians – all vying for control of a revolutionary new technology: Project Chimera.\n",
      "\n",
      "Intelligence suggested Project Chimera was a devastating bioweapon capable of targeting specific genetic markers, potentially unleashing a global pandemic tailored to wipe out entire populations.  Bond's mission: infiltrate the summit, discover the weapon's location, and prevent its deployment.\n",
      "\n",
      "The\n",
      "The biting wind whipped at James Bond’s tailored suit as he stood atop the Matterhorn, the icy peaks of the Swiss Alps a stark backdrop to the clandestine meeting unfolding below.  His target:  Ernst Stavro Blofeld, the enigmatic leader of SPECTRE, was holding a summit with a group of shadowy figures – arms dealers, tech moguls, and corrupt politicians – all vying for control of a revolutionary new technology: Project Chimera.\n",
      "\n",
      "Intelligence suggested Project Chimera was a devastating bioweapon capable of targeting specific genetic markers, potentially unleashing a global pandemic tailored to wipe out entire populations.  Bond's mission: infiltrate the summit, discover the weapon's location, and prevent its deployment.\n",
      "\n",
      "The summit was held in a secluded, high-altitude research facility, disguised as a luxury ski resort. Bond, using a combination of forged credentials and impeccable charm, gained entry, posing as a high-roller investor interested in acquiring a piece of\n",
      "The biting wind whipped at James Bond’s tailored suit as he stood atop the Matterhorn, the icy peaks of the Swiss Alps a stark backdrop to the clandestine meeting unfolding below.  His target:  Ernst Stavro Blofeld, the enigmatic leader of SPECTRE, was holding a summit with a group of shadowy figures – arms dealers, tech moguls, and corrupt politicians – all vying for control of a revolutionary new technology: Project Chimera.\n",
      "\n",
      "Intelligence suggested Project Chimera was a devastating bioweapon capable of targeting specific genetic markers, potentially unleashing a global pandemic tailored to wipe out entire populations.  Bond's mission: infiltrate the summit, discover the weapon's location, and prevent its deployment.\n",
      "\n",
      "The summit was held in a secluded, high-altitude research facility, disguised as a luxury ski resort. Bond, using a combination of forged credentials and impeccable charm, gained entry, posing as a high-roller investor interested in acquiring a piece of the technology.  He navigated the opulent halls, mingling with the elite attendees, his sharp eyes observing every detail, every whispered conversation.\n",
      "\n",
      "The facility was a labyrinth of hidden passages and state-of-the-art security systems.  Bond, however, was equipped for such challenges.  His gadgets – a\n",
      "The biting wind whipped at James Bond’s tailored suit as he stood atop the Matterhorn, the icy peaks of the Swiss Alps a stark backdrop to the clandestine meeting unfolding below.  His target:  Ernst Stavro Blofeld, the enigmatic leader of SPECTRE, was holding a summit with a group of shadowy figures – arms dealers, tech moguls, and corrupt politicians – all vying for control of a revolutionary new technology: Project Chimera.\n",
      "\n",
      "Intelligence suggested Project Chimera was a devastating bioweapon capable of targeting specific genetic markers, potentially unleashing a global pandemic tailored to wipe out entire populations.  Bond's mission: infiltrate the summit, discover the weapon's location, and prevent its deployment.\n",
      "\n",
      "The summit was held in a secluded, high-altitude research facility, disguised as a luxury ski resort. Bond, using a combination of forged credentials and impeccable charm, gained entry, posing as a high-roller investor interested in acquiring a piece of the technology.  He navigated the opulent halls, mingling with the elite attendees, his sharp eyes observing every detail, every whispered conversation.\n",
      "\n",
      "The facility was a labyrinth of hidden passages and state-of-the-art security systems.  Bond, however, was equipped for such challenges.  His gadgets – a miniature EMP device hidden in his cufflink, a grappling hook concealed in his belt buckle, and a sophisticated listening device disguised as a pen – proved invaluable in his infiltration.\n",
      "\n",
      "He discovered that Project Chimera wasn't a weapon to be used immediately.  Instead, Blofeld planned to sell it to the highest bidder\n",
      "The biting wind whipped at James Bond’s tailored suit as he stood atop the Matterhorn, the icy peaks of the Swiss Alps a stark backdrop to the clandestine meeting unfolding below.  His target:  Ernst Stavro Blofeld, the enigmatic leader of SPECTRE, was holding a summit with a group of shadowy figures – arms dealers, tech moguls, and corrupt politicians – all vying for control of a revolutionary new technology: Project Chimera.\n",
      "\n",
      "Intelligence suggested Project Chimera was a devastating bioweapon capable of targeting specific genetic markers, potentially unleashing a global pandemic tailored to wipe out entire populations.  Bond's mission: infiltrate the summit, discover the weapon's location, and prevent its deployment.\n",
      "\n",
      "The summit was held in a secluded, high-altitude research facility, disguised as a luxury ski resort. Bond, using a combination of forged credentials and impeccable charm, gained entry, posing as a high-roller investor interested in acquiring a piece of the technology.  He navigated the opulent halls, mingling with the elite attendees, his sharp eyes observing every detail, every whispered conversation.\n",
      "\n",
      "The facility was a labyrinth of hidden passages and state-of-the-art security systems.  Bond, however, was equipped for such challenges.  His gadgets – a miniature EMP device hidden in his cufflink, a grappling hook concealed in his belt buckle, and a sophisticated listening device disguised as a pen – proved invaluable in his infiltration.\n",
      "\n",
      "He discovered that Project Chimera wasn't a weapon to be used immediately.  Instead, Blofeld planned to sell it to the highest bidder, a global auction of destruction.  Bond overheard a coded conversation revealing the location of the weapon: a heavily guarded vault deep beneath the resort.\n",
      "\n",
      "The infiltration of the vault proved to be a deadly test of skill and nerve.  Laser grids, pressure plates, and heavily armed guards stood between Bond and his objective.\n",
      "The biting wind whipped at James Bond’s tailored suit as he stood atop the Matterhorn, the icy peaks of the Swiss Alps a stark backdrop to the clandestine meeting unfolding below.  His target:  Ernst Stavro Blofeld, the enigmatic leader of SPECTRE, was holding a summit with a group of shadowy figures – arms dealers, tech moguls, and corrupt politicians – all vying for control of a revolutionary new technology: Project Chimera.\n",
      "\n",
      "Intelligence suggested Project Chimera was a devastating bioweapon capable of targeting specific genetic markers, potentially unleashing a global pandemic tailored to wipe out entire populations.  Bond's mission: infiltrate the summit, discover the weapon's location, and prevent its deployment.\n",
      "\n",
      "The summit was held in a secluded, high-altitude research facility, disguised as a luxury ski resort. Bond, using a combination of forged credentials and impeccable charm, gained entry, posing as a high-roller investor interested in acquiring a piece of the technology.  He navigated the opulent halls, mingling with the elite attendees, his sharp eyes observing every detail, every whispered conversation.\n",
      "\n",
      "The facility was a labyrinth of hidden passages and state-of-the-art security systems.  Bond, however, was equipped for such challenges.  His gadgets – a miniature EMP device hidden in his cufflink, a grappling hook concealed in his belt buckle, and a sophisticated listening device disguised as a pen – proved invaluable in his infiltration.\n",
      "\n",
      "He discovered that Project Chimera wasn't a weapon to be used immediately.  Instead, Blofeld planned to sell it to the highest bidder, a global auction of destruction.  Bond overheard a coded conversation revealing the location of the weapon: a heavily guarded vault deep beneath the resort.\n",
      "\n",
      "The infiltration of the vault proved to be a deadly test of skill and nerve.  Laser grids, pressure plates, and heavily armed guards stood between Bond and his objective.  He used his wits and gadgets to navigate the treacherous security systems, his movements precise and deadly.\n",
      "\n",
      "Finally, he reached the vault, where Project Chimera was housed – not as a physical weapon, but as a complex algorithm stored on a single, seemingly innocuous data chip.  Just as he was about to\n",
      "The biting wind whipped at James Bond’s tailored suit as he stood atop the Matterhorn, the icy peaks of the Swiss Alps a stark backdrop to the clandestine meeting unfolding below.  His target:  Ernst Stavro Blofeld, the enigmatic leader of SPECTRE, was holding a summit with a group of shadowy figures – arms dealers, tech moguls, and corrupt politicians – all vying for control of a revolutionary new technology: Project Chimera.\n",
      "\n",
      "Intelligence suggested Project Chimera was a devastating bioweapon capable of targeting specific genetic markers, potentially unleashing a global pandemic tailored to wipe out entire populations.  Bond's mission: infiltrate the summit, discover the weapon's location, and prevent its deployment.\n",
      "\n",
      "The summit was held in a secluded, high-altitude research facility, disguised as a luxury ski resort. Bond, using a combination of forged credentials and impeccable charm, gained entry, posing as a high-roller investor interested in acquiring a piece of the technology.  He navigated the opulent halls, mingling with the elite attendees, his sharp eyes observing every detail, every whispered conversation.\n",
      "\n",
      "The facility was a labyrinth of hidden passages and state-of-the-art security systems.  Bond, however, was equipped for such challenges.  His gadgets – a miniature EMP device hidden in his cufflink, a grappling hook concealed in his belt buckle, and a sophisticated listening device disguised as a pen – proved invaluable in his infiltration.\n",
      "\n",
      "He discovered that Project Chimera wasn't a weapon to be used immediately.  Instead, Blofeld planned to sell it to the highest bidder, a global auction of destruction.  Bond overheard a coded conversation revealing the location of the weapon: a heavily guarded vault deep beneath the resort.\n",
      "\n",
      "The infiltration of the vault proved to be a deadly test of skill and nerve.  Laser grids, pressure plates, and heavily armed guards stood between Bond and his objective.  He used his wits and gadgets to navigate the treacherous security systems, his movements precise and deadly.\n",
      "\n",
      "Finally, he reached the vault, where Project Chimera was housed – not as a physical weapon, but as a complex algorithm stored on a single, seemingly innocuous data chip.  Just as he was about to retrieve the chip, Blofeld appeared, his icy gaze betraying no emotion.\n",
      "\n",
      "A brutal fight ensued, a clash of intellect and brute force.  Bond, using his superior training and quick thinking, managed to overpower Blofeld, seizing the data chip.  He then triggered a self-destruct sequence within the vault\n",
      "The biting wind whipped at James Bond’s tailored suit as he stood atop the Matterhorn, the icy peaks of the Swiss Alps a stark backdrop to the clandestine meeting unfolding below.  His target:  Ernst Stavro Blofeld, the enigmatic leader of SPECTRE, was holding a summit with a group of shadowy figures – arms dealers, tech moguls, and corrupt politicians – all vying for control of a revolutionary new technology: Project Chimera.\n",
      "\n",
      "Intelligence suggested Project Chimera was a devastating bioweapon capable of targeting specific genetic markers, potentially unleashing a global pandemic tailored to wipe out entire populations.  Bond's mission: infiltrate the summit, discover the weapon's location, and prevent its deployment.\n",
      "\n",
      "The summit was held in a secluded, high-altitude research facility, disguised as a luxury ski resort. Bond, using a combination of forged credentials and impeccable charm, gained entry, posing as a high-roller investor interested in acquiring a piece of the technology.  He navigated the opulent halls, mingling with the elite attendees, his sharp eyes observing every detail, every whispered conversation.\n",
      "\n",
      "The facility was a labyrinth of hidden passages and state-of-the-art security systems.  Bond, however, was equipped for such challenges.  His gadgets – a miniature EMP device hidden in his cufflink, a grappling hook concealed in his belt buckle, and a sophisticated listening device disguised as a pen – proved invaluable in his infiltration.\n",
      "\n",
      "He discovered that Project Chimera wasn't a weapon to be used immediately.  Instead, Blofeld planned to sell it to the highest bidder, a global auction of destruction.  Bond overheard a coded conversation revealing the location of the weapon: a heavily guarded vault deep beneath the resort.\n",
      "\n",
      "The infiltration of the vault proved to be a deadly test of skill and nerve.  Laser grids, pressure plates, and heavily armed guards stood between Bond and his objective.  He used his wits and gadgets to navigate the treacherous security systems, his movements precise and deadly.\n",
      "\n",
      "Finally, he reached the vault, where Project Chimera was housed – not as a physical weapon, but as a complex algorithm stored on a single, seemingly innocuous data chip.  Just as he was about to retrieve the chip, Blofeld appeared, his icy gaze betraying no emotion.\n",
      "\n",
      "A brutal fight ensued, a clash of intellect and brute force.  Bond, using his superior training and quick thinking, managed to overpower Blofeld, seizing the data chip.  He then triggered a self-destruct sequence within the vault, ensuring Project Chimera would never threaten the world.\n",
      "\n",
      "As the vault exploded, Bond escaped, leaving behind the wreckage of Blofeld’s ambition.  He stood on the mountaintop once more, the wind whipping at his suit, the cold air stinging his face.  The mission was accomplished, the world safe\n",
      "The biting wind whipped at James Bond’s tailored suit as he stood atop the Matterhorn, the icy peaks of the Swiss Alps a stark backdrop to the clandestine meeting unfolding below.  His target:  Ernst Stavro Blofeld, the enigmatic leader of SPECTRE, was holding a summit with a group of shadowy figures – arms dealers, tech moguls, and corrupt politicians – all vying for control of a revolutionary new technology: Project Chimera.\n",
      "\n",
      "Intelligence suggested Project Chimera was a devastating bioweapon capable of targeting specific genetic markers, potentially unleashing a global pandemic tailored to wipe out entire populations.  Bond's mission: infiltrate the summit, discover the weapon's location, and prevent its deployment.\n",
      "\n",
      "The summit was held in a secluded, high-altitude research facility, disguised as a luxury ski resort. Bond, using a combination of forged credentials and impeccable charm, gained entry, posing as a high-roller investor interested in acquiring a piece of the technology.  He navigated the opulent halls, mingling with the elite attendees, his sharp eyes observing every detail, every whispered conversation.\n",
      "\n",
      "The facility was a labyrinth of hidden passages and state-of-the-art security systems.  Bond, however, was equipped for such challenges.  His gadgets – a miniature EMP device hidden in his cufflink, a grappling hook concealed in his belt buckle, and a sophisticated listening device disguised as a pen – proved invaluable in his infiltration.\n",
      "\n",
      "He discovered that Project Chimera wasn't a weapon to be used immediately.  Instead, Blofeld planned to sell it to the highest bidder, a global auction of destruction.  Bond overheard a coded conversation revealing the location of the weapon: a heavily guarded vault deep beneath the resort.\n",
      "\n",
      "The infiltration of the vault proved to be a deadly test of skill and nerve.  Laser grids, pressure plates, and heavily armed guards stood between Bond and his objective.  He used his wits and gadgets to navigate the treacherous security systems, his movements precise and deadly.\n",
      "\n",
      "Finally, he reached the vault, where Project Chimera was housed – not as a physical weapon, but as a complex algorithm stored on a single, seemingly innocuous data chip.  Just as he was about to retrieve the chip, Blofeld appeared, his icy gaze betraying no emotion.\n",
      "\n",
      "A brutal fight ensued, a clash of intellect and brute force.  Bond, using his superior training and quick thinking, managed to overpower Blofeld, seizing the data chip.  He then triggered a self-destruct sequence within the vault, ensuring Project Chimera would never threaten the world.\n",
      "\n",
      "As the vault exploded, Bond escaped, leaving behind the wreckage of Blofeld’s ambition.  He stood on the mountaintop once more, the wind whipping at his suit, the cold air stinging his face.  The mission was accomplished, the world safe, for now.  But Bond knew, as always, that his work was far from over.  The shadows were long, and the world was full of threats waiting to be exposed.\n",
      "Goodbye!\n"
     ]
    }
   ],
   "source": [
    "# config = {\"configurable\": {\"thread_id\": 1}}\n",
    "# while True:\n",
    "#     user_input = input(\"You: \")\n",
    "#     if user_input in ['exit', \"quit\", \"q\"]:\n",
    "#         print(\"Goodbye!\")\n",
    "#         break\n",
    "#     response_content=''\n",
    "#     async for chunk in prompt_ai(user_input):\n",
    "#                 response_content += chunk\n",
    "#                 print(response_content)\n",
    "#     # output = graph.invoke({'messages': [user_input]}, config=config)\n",
    "#     # output['messages'][-1].pretty_print()\n",
    "#     # print(\"Bot:\", response_content)"
   ]
  },
  {
   "cell_type": "code",
   "execution_count": null,
   "metadata": {},
   "outputs": [],
   "source": []
  }
 ],
 "metadata": {
  "kernelspec": {
   "display_name": "venv",
   "language": "python",
   "name": "python3"
  },
  "language_info": {
   "codemirror_mode": {
    "name": "ipython",
    "version": 3
   },
   "file_extension": ".py",
   "mimetype": "text/x-python",
   "name": "python",
   "nbconvert_exporter": "python",
   "pygments_lexer": "ipython3",
   "version": "3.13.1"
  }
 },
 "nbformat": 4,
 "nbformat_minor": 2
}
